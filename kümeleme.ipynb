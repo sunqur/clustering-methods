{
 "cells": [
  {
   "cell_type": "code",
   "execution_count": 1,
   "metadata": {},
   "outputs": [
    {
     "name": "stderr",
     "output_type": "stream",
     "text": [
      "c:\\python35\\lib\\importlib\\_bootstrap.py:222: RuntimeWarning: numpy.dtype size changed, may indicate binary incompatibility. Expected 96, got 88\n",
      "  return f(*args, **kwds)\n",
      "c:\\python35\\lib\\importlib\\_bootstrap.py:222: RuntimeWarning: numpy.dtype size changed, may indicate binary incompatibility. Expected 96, got 88\n",
      "  return f(*args, **kwds)\n"
     ]
    }
   ],
   "source": [
    "import pandas as pd"
   ]
  },
  {
   "cell_type": "code",
   "execution_count": 2,
   "metadata": {},
   "outputs": [],
   "source": [
    "data=pd.read_excel('data.xlsx')"
   ]
  },
  {
   "cell_type": "code",
   "execution_count": 3,
   "metadata": {},
   "outputs": [
    {
     "name": "stdout",
     "output_type": "stream",
     "text": [
      "       X     Y\n",
      "0    2.0   3.0\n",
      "1    5.0   1.0\n",
      "2    4.0   NaN\n",
      "3    4.0   7.0\n",
      "4    3.0   NaN\n",
      "5    2.0   8.0\n",
      "6    1.0  17.0\n",
      "7    NaN  21.0\n",
      "8   12.0   NaN\n",
      "9    1.0  13.0\n",
      "10  13.0  12.0\n",
      "11  15.0  32.0\n",
      "12   NaN  24.0\n",
      "13  18.0   NaN\n",
      "14   5.0  25.0\n",
      "15  21.0   2.0\n",
      "16   NaN  13.0\n",
      "17   2.0  34.0\n",
      "18   7.0   NaN\n",
      "19  14.0  38.0\n",
      "20  18.0  21.0\n",
      "21  32.0   NaN\n",
      "22  15.0  33.0\n",
      "23   4.0  21.0\n",
      "24   NaN  32.0\n",
      "25   2.0   NaN\n",
      "26  19.0   7.0\n",
      "27  22.0  11.0\n",
      "28   3.0   NaN\n",
      "29   8.0  23.0\n",
      "30  12.0  17.0\n",
      "31   3.0   NaN\n",
      "32   NaN  41.0\n",
      "33   4.0  18.0\n",
      "34  35.0  21.0\n",
      "35  17.0   3.0\n",
      "36  33.0   7.0\n",
      "37  12.0   NaN\n",
      "38   NaN  23.0\n"
     ]
    }
   ],
   "source": [
    "print (data)"
   ]
  },
  {
   "cell_type": "code",
   "execution_count": 4,
   "metadata": {},
   "outputs": [
    {
     "name": "stdout",
     "output_type": "stream",
     "text": [
      "            X          Y\n",
      "0    2.000000   3.000000\n",
      "1    5.000000   1.000000\n",
      "2    4.000000  18.206897\n",
      "3    4.000000   7.000000\n",
      "4    3.000000  18.206897\n",
      "5    2.000000   8.000000\n",
      "6    1.000000  17.000000\n",
      "7   11.151515  21.000000\n",
      "8   12.000000  18.206897\n",
      "9    1.000000  13.000000\n",
      "10  13.000000  12.000000\n",
      "11  15.000000  32.000000\n",
      "12  11.151515  24.000000\n",
      "13  18.000000  18.206897\n",
      "14   5.000000  25.000000\n",
      "15  21.000000   2.000000\n",
      "16  11.151515  13.000000\n",
      "17   2.000000  34.000000\n",
      "18   7.000000  18.206897\n",
      "19  14.000000  38.000000\n",
      "20  18.000000  21.000000\n",
      "21  32.000000  18.206897\n",
      "22  15.000000  33.000000\n",
      "23   4.000000  21.000000\n",
      "24  11.151515  32.000000\n",
      "25   2.000000  18.206897\n",
      "26  19.000000   7.000000\n",
      "27  22.000000  11.000000\n",
      "28   3.000000  18.206897\n",
      "29   8.000000  23.000000\n",
      "30  12.000000  17.000000\n",
      "31   3.000000  18.206897\n",
      "32  11.151515  41.000000\n",
      "33   4.000000  18.000000\n",
      "34  35.000000  21.000000\n",
      "35  17.000000   3.000000\n",
      "36  33.000000   7.000000\n",
      "37  12.000000  18.206897\n",
      "38  11.151515  23.000000\n"
     ]
    }
   ],
   "source": [
    "data=data.replace(' ', data.median())\n",
    "data=data.fillna(data.mean())\n",
    "print (data)"
   ]
  },
  {
   "cell_type": "code",
   "execution_count": 5,
   "metadata": {},
   "outputs": [
    {
     "data": {
      "text/plain": [
       "array([0, 0, 1, 0, 1, 0, 1, 1, 1, 1, 0, 1, 1, 0, 1, 0, 0, 1, 1, 1, 1, 0,\n",
       "       1, 1, 1, 1, 0, 0, 1, 1, 1, 1, 1, 1, 0, 0, 0, 1, 1])"
      ]
     },
     "execution_count": 5,
     "metadata": {},
     "output_type": "execute_result"
    }
   ],
   "source": [
    "from sklearn.cluster import KMeans\n",
    "kmeans = KMeans(n_clusters=2, random_state=0)\n",
    "kmeans.fit_predict(data)"
   ]
  },
  {
   "cell_type": "code",
   "execution_count": 6,
   "metadata": {},
   "outputs": [
    {
     "data": {
      "text/plain": [
       "<matplotlib.collections.PathCollection at 0x2bc971a1160>"
      ]
     },
     "execution_count": 6,
     "metadata": {},
     "output_type": "execute_result"
    }
   ],
   "source": [
    "import matplotlib.pyplot as plt\n",
    "plt.scatter(data.values[:,0],data.values[:,1], c=kmeans.labels_, cmap='rainbow')"
   ]
  },
  {
   "cell_type": "code",
   "execution_count": 7,
   "metadata": {},
   "outputs": [
    {
     "data": {
      "text/plain": [
       "<matplotlib.collections.PathCollection at 0x2bc97378d68>"
      ]
     },
     "execution_count": 7,
     "metadata": {},
     "output_type": "execute_result"
    },
    {
     "data": {
      "image/png": "[encoded data removed]",
      "text/plain": [
       "<Figure size 432x288 with 1 Axes>"
      ]
     },
     "metadata": {
      "needs_background": "light"
     },
     "output_type": "display_data"
    }
   ],
   "source": [
    "kmeans = KMeans(n_clusters=4, random_state=0)\n",
    "kmeans.fit_predict(data)\n",
    "plt.scatter(data.values[:,0],data.values[:,1], c=kmeans.labels_, cmap='rainbow')"
   ]
  },
  {
   "cell_type": "code",
   "execution_count": 8,
   "metadata": {},
   "outputs": [
    {
     "data": {
      "text/plain": [
       "array([0, 0, 0, 0, 0, 0, 0, 0, 0, 0, 0, 0, 0, 0, 0, 1, 0, 0, 0, 0, 0, 1,\n",
       "       0, 0, 0, 0, 1, 1, 0, 0, 0, 0, 0, 0, 1, 1, 1, 0, 0], dtype=int64)"
      ]
     },
     "execution_count": 8,
     "metadata": {},
     "output_type": "execute_result"
    }
   ],
   "source": [
    "from sklearn.cluster import AgglomerativeClustering\n",
    "\n",
    "AggClust = AgglomerativeClustering(n_clusters=2, affinity='euclidean')\n",
    "AggClust.fit_predict(data)"
   ]
  },
  {
   "cell_type": "code",
   "execution_count": 9,
   "metadata": {},
   "outputs": [
    {
     "data": {
      "text/plain": [
       "<matplotlib.collections.PathCollection at 0x2bc97400780>"
      ]
     },
     "execution_count": 9,
     "metadata": {},
     "output_type": "execute_result"
    },
    {
     "data": {
      "image/png": "[encoded data removed]",
      "text/plain": [
       "<Figure size 432x288 with 1 Axes>"
      ]
     },
     "metadata": {
      "needs_background": "light"
     },
     "output_type": "display_data"
    }
   ],
   "source": [
    "plt.scatter(data.values[:,0],data.values[:,1], c=AggClust.labels_, cmap='rainbow')"
   ]
  },
  {
   "cell_type": "code",
   "execution_count": 10,
   "metadata": {},
   "outputs": [
    {
     "data": {
      "text/plain": [
       "<matplotlib.collections.PathCollection at 0x2bc974616a0>"
      ]
     },
     "execution_count": 10,
     "metadata": {},
     "output_type": "execute_result"
    },
    {
     "data": {
      "image/png": "[encoded data removed]",
      "text/plain": [
       "<Figure size 432x288 with 1 Axes>"
      ]
     },
     "metadata": {
      "needs_background": "light"
     },
     "output_type": "display_data"
    }
   ],
   "source": [
    "AggClust = AgglomerativeClustering(n_clusters=4, affinity='euclidean')\n",
    "AggClust.fit_predict(data)\n",
    "plt.scatter(data.values[:,0],data.values[:,1], c=AggClust.labels_, cmap='rainbow')"
   ]
  },
  {
   "cell_type": "code",
   "execution_count": 11,
   "metadata": {},
   "outputs": [
    {
     "data": {
      "image/png": "[encoded data removed]",
      "text/plain": [
       "<Figure size 432x288 with 1 Axes>"
      ]
     },
     "metadata": {
      "needs_background": "light"
     },
     "output_type": "display_data"
    }
   ],
   "source": [
    "import scipy.cluster.hierarchy as shc\n",
    "dend = shc.dendrogram(shc.linkage(data, method='single'))"
   ]
  },
  {
   "cell_type": "code",
   "execution_count": 42,
   "metadata": {},
   "outputs": [
    {
     "name": "stdout",
     "output_type": "stream",
     "text": [
      "[2 2 1 2 1 2 0 0 0 0 2 0 0 2 0 2 0 0 0 0 2 2 0 0 0 1 2 2 1 0 0 1 0 1 2 2 2\n",
      " 0 0]\n"
     ]
    },
    {
     "data": {
      "text/plain": [
       "<matplotlib.collections.PathCollection at 0x164a810a1d0>"
      ]
     },
     "execution_count": 42,
     "metadata": {},
     "output_type": "execute_result"
    },
    {
     "data": {
      "image/png": "[encoded data removed]",
      "text/plain": [
       "<Figure size 432x288 with 1 Axes>"
      ]
     },
     "metadata": {
      "needs_background": "light"
     },
     "output_type": "display_data"
    }
   ],
   "source": [
    "\n",
    "from sklearn.mixture import GaussianMixture\n",
    "gmm = GaussianMixture(n_components = 3) \n",
    "\n",
    "gmm.fit(data) \n",
    "  \n",
    "labels = gmm.predict(data) \n",
    "print (labels)\n",
    "data['labels']= labels \n",
    "d0=data.values[data['labels']==0]\n",
    "d1=data.values[data['labels']==1]\n",
    "d2=data.values[data['labels']==2]\n",
    "\n",
    "plt.scatter(d0[0], d0[1], c ='r') \n",
    "plt.scatter(d1[0], d1[1], c ='yellow') \n",
    "plt.scatter(d2[0], d2[1], c='g')\n"
   ]
  },
  {
   "cell_type": "code",
   "execution_count": null,
   "metadata": {},
   "outputs": [],
   "source": []
  }
 ],
 "metadata": {
  "kernelspec": {
   "display_name": "Python 3",
   "language": "python",
   "name": "python3"
  },
  "language_info": {
   "codemirror_mode": {
    "name": "ipython",
    "version": 3
   },
   "file_extension": ".py",
   "mimetype": "text/x-python",
   "name": "python",
   "nbconvert_exporter": "python",
   "pygments_lexer": "ipython3",
   "version": "3.8.3"
  }
 },
 "nbformat": 4,
 "nbformat_minor": 2
}
