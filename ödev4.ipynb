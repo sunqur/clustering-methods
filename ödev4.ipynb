{
 "cells": [
  {
   "cell_type": "code",
   "execution_count": 1,
   "metadata": {},
   "outputs": [
    {
     "name": "stderr",
     "output_type": "stream",
     "text": [
      "c:\\python35\\lib\\importlib\\_bootstrap.py:222: RuntimeWarning: numpy.dtype size changed, may indicate binary incompatibility. Expected 96, got 88\n",
      "  return f(*args, **kwds)\n",
      "c:\\python35\\lib\\importlib\\_bootstrap.py:222: RuntimeWarning: numpy.dtype size changed, may indicate binary incompatibility. Expected 96, got 88\n",
      "  return f(*args, **kwds)\n"
     ]
    }
   ],
   "source": [
    "import pandas as pd\n",
    "diyabet_verisi = pd.read_excel('diyabeet.XLSX')\n",
    "diyabet_verisi['class'] = diyabet_verisi['class'].replace('tested_negative', 0)\n",
    "diyabet_verisi['class'] = diyabet_verisi['class'].replace('tested_positive', 1)"
   ]
  },
  {
   "cell_type": "code",
   "execution_count": 2,
   "metadata": {},
   "outputs": [],
   "source": [
    "X=diyabet_verisi.values[:,1:9]\n",
    "Y=diyabet_verisi.values[:, -1:]"
   ]
  },
  {
   "cell_type": "code",
   "execution_count": 3,
   "metadata": {},
   "outputs": [
    {
     "name": "stderr",
     "output_type": "stream",
     "text": [
      "c:\\python35\\lib\\site-packages\\sklearn\\ensemble\\weight_boosting.py:29: DeprecationWarning: numpy.core.umath_tests is an internal NumPy module and should not be imported. It will be removed in a future NumPy release.\n",
      "  from numpy.core.umath_tests import inner1d\n"
     ]
    },
    {
     "name": "stdout",
     "output_type": "stream",
     "text": [
      "Destek Vektör Makinesi için tahmin: 0.65\n"
     ]
    }
   ],
   "source": [
    "from sklearn.ensemble import RandomForestClassifier\n",
    "from sklearn.model_selection import KFold, cross_val_score\n",
    "from sklearn import metrics\n",
    "from sklearn import svm\n",
    "sınıflandırıcı=svm.SVC()\n",
    "scores = cross_val_score(sınıflandırıcı, X, Y, cv=5, scoring='accuracy',n_jobs=-1)\n",
    "print(\"Destek Vektör Makinesi için tahmin: %0.2f\" %scores.mean())\n"
   ]
  },
  {
   "cell_type": "code",
   "execution_count": 4,
   "metadata": {},
   "outputs": [
    {
     "name": "stdout",
     "output_type": "stream",
     "text": [
      "knn için tahmin:0.71\n"
     ]
    }
   ],
   "source": [
    "from sklearn.neighbors import KNeighborsClassifier\n",
    "sınıflandırıcı=KNeighborsClassifier(n_neighbors=3)\n",
    "scores = cross_val_score(sınıflandırıcı, X, Y, cv=5, scoring='accuracy',n_jobs=-1)\n",
    "print(\"knn için tahmin:%0.2f\" %scores.mean())"
   ]
  },
  {
   "cell_type": "code",
   "execution_count": 5,
   "metadata": {},
   "outputs": [
    {
     "name": "stdout",
     "output_type": "stream",
     "text": [
      "Bagging için tahmin:0.76\n"
     ]
    }
   ],
   "source": [
    "from sklearn.ensemble import BaggingClassifier\n",
    "sınıflandırıcı=BaggingClassifier()\n",
    "scores = cross_val_score(sınıflandırıcı, X, Y, cv=5, scoring='accuracy',n_jobs=-1)\n",
    "print(\"Bagging için tahmin:%0.2f\"%scores.mean())"
   ]
  },
  {
   "cell_type": "code",
   "execution_count": 6,
   "metadata": {},
   "outputs": [
    {
     "name": "stdout",
     "output_type": "stream",
     "text": [
      "Boosting için tahmin:0.76\n"
     ]
    }
   ],
   "source": [
    "from sklearn.ensemble import GradientBoostingClassifier\n",
    "sınıflandırıcı=GradientBoostingClassifier()\n",
    "scores = cross_val_score(sınıflandırıcı, X, Y, cv=5, scoring='accuracy',n_jobs=-1)\n",
    "print(\"Boosting için tahmin:%0.2f\"%scores.mean())"
   ]
  },
  {
   "cell_type": "code",
   "execution_count": null,
   "metadata": {},
   "outputs": [],
   "source": []
  }
 ],
 "metadata": {
  "kernelspec": {
   "display_name": "Python 3",
   "language": "python",
   "name": "python3"
  },
  "language_info": {
   "codemirror_mode": {
    "name": "ipython",
    "version": 3
   },
   "file_extension": ".py",
   "mimetype": "text/x-python",
   "name": "python",
   "nbconvert_exporter": "python",
   "pygments_lexer": "ipython3",
   "version": "3.8.3"
  }
 },
 "nbformat": 4,
 "nbformat_minor": 2
}
